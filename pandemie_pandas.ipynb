{
 "cells": [
  {
   "cell_type": "code",
   "execution_count": 1,
   "metadata": {},
   "outputs": [],
   "source": [
    "import pandas as pd\n",
    "import matplotlib.pyplot as plt\n",
    "%matplotlib inline"
   ]
  },
  {
   "cell_type": "code",
   "execution_count": 2,
   "metadata": {},
   "outputs": [
    {
     "data": {
      "text/html": [
       "<div>\n",
       "<style scoped>\n",
       "    .dataframe tbody tr th:only-of-type {\n",
       "        vertical-align: middle;\n",
       "    }\n",
       "\n",
       "    .dataframe tbody tr th {\n",
       "        vertical-align: top;\n",
       "    }\n",
       "\n",
       "    .dataframe thead th {\n",
       "        text-align: right;\n",
       "    }\n",
       "</style>\n",
       "<table border=\"1\" class=\"dataframe\">\n",
       "  <thead>\n",
       "    <tr style=\"text-align: right;\">\n",
       "      <th></th>\n",
       "      <th>X</th>\n",
       "      <th>Y</th>\n",
       "      <th>OBJECTID</th>\n",
       "      <th>Country_Region</th>\n",
       "      <th>Last_Update</th>\n",
       "      <th>Lat</th>\n",
       "      <th>Long_</th>\n",
       "      <th>Confirmed</th>\n",
       "      <th>Deaths</th>\n",
       "      <th>Recovered</th>\n",
       "    </tr>\n",
       "  </thead>\n",
       "  <tbody>\n",
       "    <tr>\n",
       "      <th>0</th>\n",
       "      <td>133.000000</td>\n",
       "      <td>-25.000000</td>\n",
       "      <td>1</td>\n",
       "      <td>Australia</td>\n",
       "      <td>2020-03-29T15:12:45.000Z</td>\n",
       "      <td>-25.000000</td>\n",
       "      <td>133.000000</td>\n",
       "      <td>3980</td>\n",
       "      <td>16</td>\n",
       "      <td>244</td>\n",
       "    </tr>\n",
       "    <tr>\n",
       "      <th>1</th>\n",
       "      <td>14.550100</td>\n",
       "      <td>47.516200</td>\n",
       "      <td>2</td>\n",
       "      <td>Austria</td>\n",
       "      <td>2020-03-29T15:07:10.000Z</td>\n",
       "      <td>47.516200</td>\n",
       "      <td>14.550100</td>\n",
       "      <td>8536</td>\n",
       "      <td>86</td>\n",
       "      <td>479</td>\n",
       "    </tr>\n",
       "    <tr>\n",
       "      <th>2</th>\n",
       "      <td>-95.001000</td>\n",
       "      <td>60.001000</td>\n",
       "      <td>3</td>\n",
       "      <td>Canada</td>\n",
       "      <td>2020-03-29T15:12:32.000Z</td>\n",
       "      <td>60.001000</td>\n",
       "      <td>-95.001000</td>\n",
       "      <td>5655</td>\n",
       "      <td>61</td>\n",
       "      <td>466</td>\n",
       "    </tr>\n",
       "    <tr>\n",
       "      <th>3</th>\n",
       "      <td>114.305500</td>\n",
       "      <td>30.592800</td>\n",
       "      <td>4</td>\n",
       "      <td>China</td>\n",
       "      <td>2020-03-29T14:25:46.000Z</td>\n",
       "      <td>30.592800</td>\n",
       "      <td>114.305500</td>\n",
       "      <td>82122</td>\n",
       "      <td>3304</td>\n",
       "      <td>75582</td>\n",
       "    </tr>\n",
       "    <tr>\n",
       "      <th>4</th>\n",
       "      <td>10.000000</td>\n",
       "      <td>56.000000</td>\n",
       "      <td>5</td>\n",
       "      <td>Denmark</td>\n",
       "      <td>2020-03-29T15:07:10.000Z</td>\n",
       "      <td>56.000000</td>\n",
       "      <td>10.000000</td>\n",
       "      <td>2564</td>\n",
       "      <td>72</td>\n",
       "      <td>73</td>\n",
       "    </tr>\n",
       "    <tr>\n",
       "      <th>...</th>\n",
       "      <td>...</td>\n",
       "      <td>...</td>\n",
       "      <td>...</td>\n",
       "      <td>...</td>\n",
       "      <td>...</td>\n",
       "      <td>...</td>\n",
       "      <td>...</td>\n",
       "      <td>...</td>\n",
       "      <td>...</td>\n",
       "      <td>...</td>\n",
       "    </tr>\n",
       "    <tr>\n",
       "      <th>172</th>\n",
       "      <td>-66.589700</td>\n",
       "      <td>6.423800</td>\n",
       "      <td>173</td>\n",
       "      <td>Venezuela</td>\n",
       "      <td>2020-03-29T15:07:10.000Z</td>\n",
       "      <td>6.423800</td>\n",
       "      <td>-66.589700</td>\n",
       "      <td>119</td>\n",
       "      <td>2</td>\n",
       "      <td>39</td>\n",
       "    </tr>\n",
       "    <tr>\n",
       "      <th>173</th>\n",
       "      <td>108.277199</td>\n",
       "      <td>14.058324</td>\n",
       "      <td>174</td>\n",
       "      <td>Vietnam</td>\n",
       "      <td>2020-03-29T15:07:10.000Z</td>\n",
       "      <td>14.058324</td>\n",
       "      <td>108.277199</td>\n",
       "      <td>188</td>\n",
       "      <td>0</td>\n",
       "      <td>21</td>\n",
       "    </tr>\n",
       "    <tr>\n",
       "      <th>174</th>\n",
       "      <td>35.233200</td>\n",
       "      <td>31.952200</td>\n",
       "      <td>175</td>\n",
       "      <td>West Bank and Gaza</td>\n",
       "      <td>2020-03-29T15:07:10.000Z</td>\n",
       "      <td>31.952200</td>\n",
       "      <td>35.233200</td>\n",
       "      <td>106</td>\n",
       "      <td>1</td>\n",
       "      <td>18</td>\n",
       "    </tr>\n",
       "    <tr>\n",
       "      <th>175</th>\n",
       "      <td>27.849332</td>\n",
       "      <td>-13.133897</td>\n",
       "      <td>176</td>\n",
       "      <td>Zambia</td>\n",
       "      <td>2020-03-29T15:07:10.000Z</td>\n",
       "      <td>-13.133897</td>\n",
       "      <td>27.849332</td>\n",
       "      <td>29</td>\n",
       "      <td>0</td>\n",
       "      <td>0</td>\n",
       "    </tr>\n",
       "    <tr>\n",
       "      <th>176</th>\n",
       "      <td>29.154857</td>\n",
       "      <td>-19.015438</td>\n",
       "      <td>177</td>\n",
       "      <td>Zimbabwe</td>\n",
       "      <td>2020-03-29T15:07:10.000Z</td>\n",
       "      <td>-19.015438</td>\n",
       "      <td>29.154857</td>\n",
       "      <td>7</td>\n",
       "      <td>1</td>\n",
       "      <td>0</td>\n",
       "    </tr>\n",
       "  </tbody>\n",
       "</table>\n",
       "<p>177 rows × 10 columns</p>\n",
       "</div>"
      ],
      "text/plain": [
       "              X          Y  OBJECTID      Country_Region  \\\n",
       "0    133.000000 -25.000000         1           Australia   \n",
       "1     14.550100  47.516200         2             Austria   \n",
       "2    -95.001000  60.001000         3              Canada   \n",
       "3    114.305500  30.592800         4               China   \n",
       "4     10.000000  56.000000         5             Denmark   \n",
       "..          ...        ...       ...                 ...   \n",
       "172  -66.589700   6.423800       173           Venezuela   \n",
       "173  108.277199  14.058324       174             Vietnam   \n",
       "174   35.233200  31.952200       175  West Bank and Gaza   \n",
       "175   27.849332 -13.133897       176              Zambia   \n",
       "176   29.154857 -19.015438       177            Zimbabwe   \n",
       "\n",
       "                  Last_Update        Lat       Long_  Confirmed  Deaths  \\\n",
       "0    2020-03-29T15:12:45.000Z -25.000000  133.000000       3980      16   \n",
       "1    2020-03-29T15:07:10.000Z  47.516200   14.550100       8536      86   \n",
       "2    2020-03-29T15:12:32.000Z  60.001000  -95.001000       5655      61   \n",
       "3    2020-03-29T14:25:46.000Z  30.592800  114.305500      82122    3304   \n",
       "4    2020-03-29T15:07:10.000Z  56.000000   10.000000       2564      72   \n",
       "..                        ...        ...         ...        ...     ...   \n",
       "172  2020-03-29T15:07:10.000Z   6.423800  -66.589700        119       2   \n",
       "173  2020-03-29T15:07:10.000Z  14.058324  108.277199        188       0   \n",
       "174  2020-03-29T15:07:10.000Z  31.952200   35.233200        106       1   \n",
       "175  2020-03-29T15:07:10.000Z -13.133897   27.849332         29       0   \n",
       "176  2020-03-29T15:07:10.000Z -19.015438   29.154857          7       1   \n",
       "\n",
       "     Recovered  \n",
       "0          244  \n",
       "1          479  \n",
       "2          466  \n",
       "3        75582  \n",
       "4           73  \n",
       "..         ...  \n",
       "172         39  \n",
       "173         21  \n",
       "174         18  \n",
       "175          0  \n",
       "176          0  \n",
       "\n",
       "[177 rows x 10 columns]"
      ]
     },
     "execution_count": 2,
     "metadata": {},
     "output_type": "execute_result"
    }
   ],
   "source": [
    "df_w = pd.read_csv('https://opendata.arcgis.com/datasets/bbb2e4f589ba40d692fab712ae37b9ac_2.csv')\n",
    "df_w"
   ]
  },
  {
   "cell_type": "code",
   "execution_count": 3,
   "metadata": {
    "scrolled": true
   },
   "outputs": [],
   "source": [
    "#df_w = pd.read_csv('Cases_country27.csv')\n",
    "#df_w"
   ]
  },
  {
   "cell_type": "code",
   "execution_count": 4,
   "metadata": {},
   "outputs": [
    {
     "data": {
      "text/html": [
       "<div>\n",
       "<style scoped>\n",
       "    .dataframe tbody tr th:only-of-type {\n",
       "        vertical-align: middle;\n",
       "    }\n",
       "\n",
       "    .dataframe tbody tr th {\n",
       "        vertical-align: top;\n",
       "    }\n",
       "\n",
       "    .dataframe thead th {\n",
       "        text-align: right;\n",
       "    }\n",
       "</style>\n",
       "<table border=\"1\" class=\"dataframe\">\n",
       "  <thead>\n",
       "    <tr style=\"text-align: right;\">\n",
       "      <th></th>\n",
       "      <th>X</th>\n",
       "      <th>Y</th>\n",
       "      <th>OBJECTID</th>\n",
       "      <th>Province_State</th>\n",
       "      <th>Country_Region</th>\n",
       "      <th>Last_Update</th>\n",
       "      <th>Lat</th>\n",
       "      <th>Long_</th>\n",
       "      <th>Confirmed</th>\n",
       "      <th>Recovered</th>\n",
       "      <th>Deaths</th>\n",
       "      <th>Active</th>\n",
       "      <th>Admin2</th>\n",
       "      <th>FIPS</th>\n",
       "      <th>Combined_Key</th>\n",
       "      <th>Incident_Rate</th>\n",
       "      <th>People_Tested</th>\n",
       "    </tr>\n",
       "  </thead>\n",
       "  <tbody>\n",
       "    <tr>\n",
       "      <th>0</th>\n",
       "      <td>-82.461707</td>\n",
       "      <td>34.223334</td>\n",
       "      <td>1</td>\n",
       "      <td>South Carolina</td>\n",
       "      <td>US</td>\n",
       "      <td>2020-03-26T22:40:56.000Z</td>\n",
       "      <td>34.223334</td>\n",
       "      <td>-82.461707</td>\n",
       "      <td>3</td>\n",
       "      <td>0</td>\n",
       "      <td>0</td>\n",
       "      <td>0</td>\n",
       "      <td>Abbeville</td>\n",
       "      <td>45001.0</td>\n",
       "      <td>Abbeville, South Carolina, US</td>\n",
       "      <td>NaN</td>\n",
       "      <td>NaN</td>\n",
       "    </tr>\n",
       "    <tr>\n",
       "      <th>1</th>\n",
       "      <td>-92.414197</td>\n",
       "      <td>30.295065</td>\n",
       "      <td>2</td>\n",
       "      <td>Louisiana</td>\n",
       "      <td>US</td>\n",
       "      <td>2020-03-26T22:40:56.000Z</td>\n",
       "      <td>30.295065</td>\n",
       "      <td>-92.414197</td>\n",
       "      <td>3</td>\n",
       "      <td>0</td>\n",
       "      <td>0</td>\n",
       "      <td>0</td>\n",
       "      <td>Acadia</td>\n",
       "      <td>22001.0</td>\n",
       "      <td>Acadia, Louisiana, US</td>\n",
       "      <td>NaN</td>\n",
       "      <td>NaN</td>\n",
       "    </tr>\n",
       "    <tr>\n",
       "      <th>2</th>\n",
       "      <td>-75.632346</td>\n",
       "      <td>37.767072</td>\n",
       "      <td>3</td>\n",
       "      <td>Virginia</td>\n",
       "      <td>US</td>\n",
       "      <td>2020-03-26T22:40:56.000Z</td>\n",
       "      <td>37.767072</td>\n",
       "      <td>-75.632346</td>\n",
       "      <td>2</td>\n",
       "      <td>0</td>\n",
       "      <td>0</td>\n",
       "      <td>0</td>\n",
       "      <td>Accomack</td>\n",
       "      <td>51001.0</td>\n",
       "      <td>Accomack, Virginia, US</td>\n",
       "      <td>NaN</td>\n",
       "      <td>NaN</td>\n",
       "    </tr>\n",
       "    <tr>\n",
       "      <th>3</th>\n",
       "      <td>-116.241552</td>\n",
       "      <td>43.452658</td>\n",
       "      <td>4</td>\n",
       "      <td>Idaho</td>\n",
       "      <td>US</td>\n",
       "      <td>2020-03-26T22:40:56.000Z</td>\n",
       "      <td>43.452658</td>\n",
       "      <td>-116.241552</td>\n",
       "      <td>39</td>\n",
       "      <td>0</td>\n",
       "      <td>0</td>\n",
       "      <td>0</td>\n",
       "      <td>Ada</td>\n",
       "      <td>16001.0</td>\n",
       "      <td>Ada, Idaho, US</td>\n",
       "      <td>NaN</td>\n",
       "      <td>NaN</td>\n",
       "    </tr>\n",
       "    <tr>\n",
       "      <th>4</th>\n",
       "      <td>-94.471059</td>\n",
       "      <td>41.330756</td>\n",
       "      <td>5</td>\n",
       "      <td>Iowa</td>\n",
       "      <td>US</td>\n",
       "      <td>2020-03-26T22:40:56.000Z</td>\n",
       "      <td>41.330756</td>\n",
       "      <td>-94.471059</td>\n",
       "      <td>1</td>\n",
       "      <td>0</td>\n",
       "      <td>0</td>\n",
       "      <td>0</td>\n",
       "      <td>Adair</td>\n",
       "      <td>19001.0</td>\n",
       "      <td>Adair, Iowa, US</td>\n",
       "      <td>NaN</td>\n",
       "      <td>NaN</td>\n",
       "    </tr>\n",
       "    <tr>\n",
       "      <th>...</th>\n",
       "      <td>...</td>\n",
       "      <td>...</td>\n",
       "      <td>...</td>\n",
       "      <td>...</td>\n",
       "      <td>...</td>\n",
       "      <td>...</td>\n",
       "      <td>...</td>\n",
       "      <td>...</td>\n",
       "      <td>...</td>\n",
       "      <td>...</td>\n",
       "      <td>...</td>\n",
       "      <td>...</td>\n",
       "      <td>...</td>\n",
       "      <td>...</td>\n",
       "      <td>...</td>\n",
       "      <td>...</td>\n",
       "      <td>...</td>\n",
       "    </tr>\n",
       "    <tr>\n",
       "      <th>3160</th>\n",
       "      <td>-113.906667</td>\n",
       "      <td>32.768957</td>\n",
       "      <td>3161</td>\n",
       "      <td>Arizona</td>\n",
       "      <td>US</td>\n",
       "      <td>2020-03-26T22:40:56.000Z</td>\n",
       "      <td>32.768957</td>\n",
       "      <td>-113.906667</td>\n",
       "      <td>4</td>\n",
       "      <td>0</td>\n",
       "      <td>0</td>\n",
       "      <td>0</td>\n",
       "      <td>Yuma</td>\n",
       "      <td>4027.0</td>\n",
       "      <td>Yuma, Arizona, US</td>\n",
       "      <td>NaN</td>\n",
       "      <td>NaN</td>\n",
       "    </tr>\n",
       "    <tr>\n",
       "      <th>3161</th>\n",
       "      <td>-102.425867</td>\n",
       "      <td>40.003468</td>\n",
       "      <td>3162</td>\n",
       "      <td>Colorado</td>\n",
       "      <td>US</td>\n",
       "      <td>2020-03-26T22:40:56.000Z</td>\n",
       "      <td>40.003468</td>\n",
       "      <td>-102.425867</td>\n",
       "      <td>1</td>\n",
       "      <td>0</td>\n",
       "      <td>0</td>\n",
       "      <td>0</td>\n",
       "      <td>Yuma</td>\n",
       "      <td>8125.0</td>\n",
       "      <td>Yuma, Colorado, US</td>\n",
       "      <td>NaN</td>\n",
       "      <td>NaN</td>\n",
       "    </tr>\n",
       "    <tr>\n",
       "      <th>3162</th>\n",
       "      <td>-99.169872</td>\n",
       "      <td>27.001564</td>\n",
       "      <td>3163</td>\n",
       "      <td>Texas</td>\n",
       "      <td>US</td>\n",
       "      <td>2020-03-26T22:40:56.000Z</td>\n",
       "      <td>27.001564</td>\n",
       "      <td>-99.169872</td>\n",
       "      <td>0</td>\n",
       "      <td>0</td>\n",
       "      <td>0</td>\n",
       "      <td>0</td>\n",
       "      <td>Zapata</td>\n",
       "      <td>48505.0</td>\n",
       "      <td>Zapata, Texas, US</td>\n",
       "      <td>NaN</td>\n",
       "      <td>NaN</td>\n",
       "    </tr>\n",
       "    <tr>\n",
       "      <th>3163</th>\n",
       "      <td>-99.760508</td>\n",
       "      <td>28.866172</td>\n",
       "      <td>3164</td>\n",
       "      <td>Texas</td>\n",
       "      <td>US</td>\n",
       "      <td>2020-03-26T22:40:56.000Z</td>\n",
       "      <td>28.866172</td>\n",
       "      <td>-99.760508</td>\n",
       "      <td>0</td>\n",
       "      <td>0</td>\n",
       "      <td>0</td>\n",
       "      <td>0</td>\n",
       "      <td>Zavala</td>\n",
       "      <td>48507.0</td>\n",
       "      <td>Zavala, Texas, US</td>\n",
       "      <td>NaN</td>\n",
       "      <td>NaN</td>\n",
       "    </tr>\n",
       "    <tr>\n",
       "      <th>3164</th>\n",
       "      <td>-101.665462</td>\n",
       "      <td>44.978819</td>\n",
       "      <td>3165</td>\n",
       "      <td>South Dakota</td>\n",
       "      <td>US</td>\n",
       "      <td>2020-03-26T22:40:56.000Z</td>\n",
       "      <td>44.978819</td>\n",
       "      <td>-101.665462</td>\n",
       "      <td>0</td>\n",
       "      <td>0</td>\n",
       "      <td>0</td>\n",
       "      <td>0</td>\n",
       "      <td>Ziebach</td>\n",
       "      <td>46137.0</td>\n",
       "      <td>Ziebach, South Dakota, US</td>\n",
       "      <td>NaN</td>\n",
       "      <td>NaN</td>\n",
       "    </tr>\n",
       "  </tbody>\n",
       "</table>\n",
       "<p>3165 rows × 17 columns</p>\n",
       "</div>"
      ],
      "text/plain": [
       "               X          Y  OBJECTID  Province_State Country_Region  \\\n",
       "0     -82.461707  34.223334         1  South Carolina             US   \n",
       "1     -92.414197  30.295065         2       Louisiana             US   \n",
       "2     -75.632346  37.767072         3        Virginia             US   \n",
       "3    -116.241552  43.452658         4           Idaho             US   \n",
       "4     -94.471059  41.330756         5            Iowa             US   \n",
       "...          ...        ...       ...             ...            ...   \n",
       "3160 -113.906667  32.768957      3161         Arizona             US   \n",
       "3161 -102.425867  40.003468      3162        Colorado             US   \n",
       "3162  -99.169872  27.001564      3163           Texas             US   \n",
       "3163  -99.760508  28.866172      3164           Texas             US   \n",
       "3164 -101.665462  44.978819      3165    South Dakota             US   \n",
       "\n",
       "                   Last_Update        Lat       Long_  Confirmed  Recovered  \\\n",
       "0     2020-03-26T22:40:56.000Z  34.223334  -82.461707          3          0   \n",
       "1     2020-03-26T22:40:56.000Z  30.295065  -92.414197          3          0   \n",
       "2     2020-03-26T22:40:56.000Z  37.767072  -75.632346          2          0   \n",
       "3     2020-03-26T22:40:56.000Z  43.452658 -116.241552         39          0   \n",
       "4     2020-03-26T22:40:56.000Z  41.330756  -94.471059          1          0   \n",
       "...                        ...        ...         ...        ...        ...   \n",
       "3160  2020-03-26T22:40:56.000Z  32.768957 -113.906667          4          0   \n",
       "3161  2020-03-26T22:40:56.000Z  40.003468 -102.425867          1          0   \n",
       "3162  2020-03-26T22:40:56.000Z  27.001564  -99.169872          0          0   \n",
       "3163  2020-03-26T22:40:56.000Z  28.866172  -99.760508          0          0   \n",
       "3164  2020-03-26T22:40:56.000Z  44.978819 -101.665462          0          0   \n",
       "\n",
       "      Deaths  Active     Admin2     FIPS                   Combined_Key  \\\n",
       "0          0       0  Abbeville  45001.0  Abbeville, South Carolina, US   \n",
       "1          0       0     Acadia  22001.0          Acadia, Louisiana, US   \n",
       "2          0       0   Accomack  51001.0         Accomack, Virginia, US   \n",
       "3          0       0        Ada  16001.0                 Ada, Idaho, US   \n",
       "4          0       0      Adair  19001.0                Adair, Iowa, US   \n",
       "...      ...     ...        ...      ...                            ...   \n",
       "3160       0       0       Yuma   4027.0              Yuma, Arizona, US   \n",
       "3161       0       0       Yuma   8125.0             Yuma, Colorado, US   \n",
       "3162       0       0     Zapata  48505.0              Zapata, Texas, US   \n",
       "3163       0       0     Zavala  48507.0              Zavala, Texas, US   \n",
       "3164       0       0    Ziebach  46137.0      Ziebach, South Dakota, US   \n",
       "\n",
       "      Incident_Rate  People_Tested  \n",
       "0               NaN            NaN  \n",
       "1               NaN            NaN  \n",
       "2               NaN            NaN  \n",
       "3               NaN            NaN  \n",
       "4               NaN            NaN  \n",
       "...             ...            ...  \n",
       "3160            NaN            NaN  \n",
       "3161            NaN            NaN  \n",
       "3162            NaN            NaN  \n",
       "3163            NaN            NaN  \n",
       "3164            NaN            NaN  \n",
       "\n",
       "[3165 rows x 17 columns]"
      ]
     },
     "execution_count": 4,
     "metadata": {},
     "output_type": "execute_result"
    }
   ],
   "source": [
    "df_US = pd.read_csv('COVID19_Cases_US.csv')\n",
    "df_US"
   ]
  },
  {
   "cell_type": "code",
   "execution_count": 5,
   "metadata": {},
   "outputs": [
    {
     "data": {
      "text/plain": [
       "X                                      133\n",
       "Y                                      -25\n",
       "OBJECTID                                 1\n",
       "Country_Region                   Australia\n",
       "Last_Update       2020-03-29T15:12:45.000Z\n",
       "Lat                                    -25\n",
       "Long_                                  133\n",
       "Confirmed                             3980\n",
       "Deaths                                  16\n",
       "Recovered                              244\n",
       "Name: 0, dtype: object"
      ]
     },
     "execution_count": 5,
     "metadata": {},
     "output_type": "execute_result"
    }
   ],
   "source": [
    "df_w.loc[0]"
   ]
  },
  {
   "cell_type": "code",
   "execution_count": 6,
   "metadata": {},
   "outputs": [
    {
     "data": {
      "text/html": [
       "<div>\n",
       "<style scoped>\n",
       "    .dataframe tbody tr th:only-of-type {\n",
       "        vertical-align: middle;\n",
       "    }\n",
       "\n",
       "    .dataframe tbody tr th {\n",
       "        vertical-align: top;\n",
       "    }\n",
       "\n",
       "    .dataframe thead th {\n",
       "        text-align: right;\n",
       "    }\n",
       "</style>\n",
       "<table border=\"1\" class=\"dataframe\">\n",
       "  <thead>\n",
       "    <tr style=\"text-align: right;\">\n",
       "      <th></th>\n",
       "      <th>X</th>\n",
       "      <th>Y</th>\n",
       "      <th>OBJECTID</th>\n",
       "      <th>Country_Region</th>\n",
       "      <th>Last_Update</th>\n",
       "      <th>Lat</th>\n",
       "      <th>Long_</th>\n",
       "      <th>Confirmed</th>\n",
       "      <th>Deaths</th>\n",
       "      <th>Recovered</th>\n",
       "    </tr>\n",
       "  </thead>\n",
       "  <tbody>\n",
       "    <tr>\n",
       "      <th>6</th>\n",
       "      <td>2.2137</td>\n",
       "      <td>46.2276</td>\n",
       "      <td>7</td>\n",
       "      <td>France</td>\n",
       "      <td>2020-03-29T15:07:10.000Z</td>\n",
       "      <td>46.2276</td>\n",
       "      <td>2.2137</td>\n",
       "      <td>38105</td>\n",
       "      <td>2317</td>\n",
       "      <td>5724</td>\n",
       "    </tr>\n",
       "  </tbody>\n",
       "</table>\n",
       "</div>"
      ],
      "text/plain": [
       "        X        Y  OBJECTID Country_Region               Last_Update  \\\n",
       "6  2.2137  46.2276         7         France  2020-03-29T15:07:10.000Z   \n",
       "\n",
       "       Lat   Long_  Confirmed  Deaths  Recovered  \n",
       "6  46.2276  2.2137      38105    2317       5724  "
      ]
     },
     "execution_count": 6,
     "metadata": {},
     "output_type": "execute_result"
    }
   ],
   "source": [
    "df_w[df_w['Country_Region']=='France']"
   ]
  },
  {
   "cell_type": "code",
   "execution_count": 7,
   "metadata": {},
   "outputs": [
    {
     "data": {
      "text/plain": [
       "0               Australia\n",
       "1                 Austria\n",
       "2                  Canada\n",
       "3                   China\n",
       "4                 Denmark\n",
       "              ...        \n",
       "172             Venezuela\n",
       "173               Vietnam\n",
       "174    West Bank and Gaza\n",
       "175                Zambia\n",
       "176              Zimbabwe\n",
       "Name: Country_Region, Length: 177, dtype: object"
      ]
     },
     "execution_count": 7,
     "metadata": {},
     "output_type": "execute_result"
    }
   ],
   "source": [
    "df_w['Country_Region']"
   ]
  },
  {
   "cell_type": "code",
   "execution_count": 8,
   "metadata": {},
   "outputs": [
    {
     "name": "stdout",
     "output_type": "stream",
     "text": [
      "<class 'pandas.core.frame.DataFrame'>\n",
      "RangeIndex: 177 entries, 0 to 176\n",
      "Data columns (total 10 columns):\n",
      " #   Column          Non-Null Count  Dtype  \n",
      "---  ------          --------------  -----  \n",
      " 0   X               177 non-null    float64\n",
      " 1   Y               177 non-null    float64\n",
      " 2   OBJECTID        177 non-null    int64  \n",
      " 3   Country_Region  177 non-null    object \n",
      " 4   Last_Update     177 non-null    object \n",
      " 5   Lat             177 non-null    float64\n",
      " 6   Long_           177 non-null    float64\n",
      " 7   Confirmed       177 non-null    int64  \n",
      " 8   Deaths          177 non-null    int64  \n",
      " 9   Recovered       177 non-null    int64  \n",
      "dtypes: float64(4), int64(4), object(2)\n",
      "memory usage: 12.5+ KB\n"
     ]
    }
   ],
   "source": [
    "df_w.info()"
   ]
  },
  {
   "cell_type": "code",
   "execution_count": 9,
   "metadata": {},
   "outputs": [
    {
     "data": {
      "text/plain": [
       "'2020-03-29T15:07:10.000Z'"
      ]
     },
     "execution_count": 9,
     "metadata": {},
     "output_type": "execute_result"
    }
   ],
   "source": [
    "update = list(df_w[df_w['Country_Region']=='France']['Last_Update'])[0]\n",
    "update"
   ]
  },
  {
   "cell_type": "code",
   "execution_count": 10,
   "metadata": {},
   "outputs": [
    {
     "data": {
      "text/plain": [
       "'2020-03-29'"
      ]
     },
     "execution_count": 10,
     "metadata": {},
     "output_type": "execute_result"
    }
   ],
   "source": [
    "day = update.split('T')[0]\n",
    "day"
   ]
  },
  {
   "cell_type": "code",
   "execution_count": 11,
   "metadata": {},
   "outputs": [
    {
     "data": {
      "text/plain": [
       "'15:07:10'"
      ]
     },
     "execution_count": 11,
     "metadata": {},
     "output_type": "execute_result"
    }
   ],
   "source": [
    "time = update.split('T')[1].split('.')[0]\n",
    "time"
   ]
  },
  {
   "cell_type": "code",
   "execution_count": 12,
   "metadata": {},
   "outputs": [],
   "source": [
    "x = df_w['X']\n",
    "y = df_w['Y']"
   ]
  },
  {
   "cell_type": "code",
   "execution_count": 13,
   "metadata": {},
   "outputs": [
    {
     "data": {
      "image/png": "[encoded data removed]",
      "text/plain": [
       "<Figure size 432x288 with 1 Axes>"
      ]
     },
     "metadata": {
      "needs_background": "light"
     },
     "output_type": "display_data"
    }
   ],
   "source": [
    "import matplotlib.pyplot as plt\n",
    "plt.plot(x,y,'r.')\n",
    "plt.show()"
   ]
  },
  {
   "cell_type": "code",
   "execution_count": 14,
   "metadata": {},
   "outputs": [
    {
     "data": {
      "image/png": "[encoded data removed]",
      "text/plain": [
       "<Figure size 432x288 with 1 Axes>"
      ]
     },
     "metadata": {
      "needs_background": "light"
     },
     "output_type": "display_data"
    }
   ],
   "source": [
    "df_w.plot.scatter(x='X',y='Y')\n",
    "plt.show()"
   ]
  },
  {
   "cell_type": "code",
   "execution_count": 15,
   "metadata": {},
   "outputs": [
    {
     "data": {
      "text/plain": [
       "32137"
      ]
     },
     "execution_count": 15,
     "metadata": {},
     "output_type": "execute_result"
    }
   ],
   "source": [
    "deads = df_w['Deaths'].sum()\n",
    "deads"
   ]
  },
  {
   "cell_type": "code",
   "execution_count": 16,
   "metadata": {},
   "outputs": [
    {
     "data": {
      "text/plain": [
       "685623"
      ]
     },
     "execution_count": 16,
     "metadata": {},
     "output_type": "execute_result"
    }
   ],
   "source": [
    "confirmed = df_w['Confirmed'].sum()\n",
    "confirmed\n",
    "#deads/confirmed"
   ]
  },
  {
   "cell_type": "code",
   "execution_count": 17,
   "metadata": {},
   "outputs": [
    {
     "data": {
      "text/plain": [
       "'4.69%'"
      ]
     },
     "execution_count": 17,
     "metadata": {},
     "output_type": "execute_result"
    }
   ],
   "source": [
    "'{:1.2f}%'.format(deads/confirmed*100)"
   ]
  },
  {
   "cell_type": "code",
   "execution_count": 18,
   "metadata": {},
   "outputs": [
    {
     "data": {
      "image/png": "[encoded data removed]",
      "text/plain": [
       "<Figure size 432x288 with 1 Axes>"
      ]
     },
     "metadata": {
      "needs_background": "light"
     },
     "output_type": "display_data"
    }
   ],
   "source": [
    "df_w['Deaths'].plot()\n",
    "plt.show()"
   ]
  },
  {
   "cell_type": "code",
   "execution_count": 19,
   "metadata": {},
   "outputs": [
    {
     "data": {
      "image/png": "[encoded data removed]",
      "text/plain": [
       "<Figure size 432x288 with 1 Axes>"
      ]
     },
     "metadata": {
      "needs_background": "light"
     },
     "output_type": "display_data"
    }
   ],
   "source": [
    "df_w['Confirmed'].plot()\n",
    "plt.show()"
   ]
  },
  {
   "cell_type": "code",
   "execution_count": 20,
   "metadata": {},
   "outputs": [
    {
     "data": {
      "text/html": [
       "<div>\n",
       "<style scoped>\n",
       "    .dataframe tbody tr th:only-of-type {\n",
       "        vertical-align: middle;\n",
       "    }\n",
       "\n",
       "    .dataframe tbody tr th {\n",
       "        vertical-align: top;\n",
       "    }\n",
       "\n",
       "    .dataframe thead th {\n",
       "        text-align: right;\n",
       "    }\n",
       "</style>\n",
       "<table border=\"1\" class=\"dataframe\">\n",
       "  <thead>\n",
       "    <tr style=\"text-align: right;\">\n",
       "      <th></th>\n",
       "      <th>Country_Region</th>\n",
       "      <th>Confirmed</th>\n",
       "      <th>Deaths</th>\n",
       "      <th>Recovered</th>\n",
       "    </tr>\n",
       "  </thead>\n",
       "  <tbody>\n",
       "    <tr>\n",
       "      <th>3</th>\n",
       "      <td>China</td>\n",
       "      <td>82122</td>\n",
       "      <td>3304</td>\n",
       "      <td>75582</td>\n",
       "    </tr>\n",
       "    <tr>\n",
       "      <th>6</th>\n",
       "      <td>France</td>\n",
       "      <td>38105</td>\n",
       "      <td>2317</td>\n",
       "      <td>5724</td>\n",
       "    </tr>\n",
       "    <tr>\n",
       "      <th>10</th>\n",
       "      <td>Italy</td>\n",
       "      <td>92472</td>\n",
       "      <td>10023</td>\n",
       "      <td>12384</td>\n",
       "    </tr>\n",
       "    <tr>\n",
       "      <th>16</th>\n",
       "      <td>United Kingdom</td>\n",
       "      <td>19758</td>\n",
       "      <td>1231</td>\n",
       "      <td>151</td>\n",
       "    </tr>\n",
       "    <tr>\n",
       "      <th>17</th>\n",
       "      <td>US</td>\n",
       "      <td>125313</td>\n",
       "      <td>2197</td>\n",
       "      <td>2612</td>\n",
       "    </tr>\n",
       "    <tr>\n",
       "      <th>87</th>\n",
       "      <td>Iran</td>\n",
       "      <td>38309</td>\n",
       "      <td>2640</td>\n",
       "      <td>12391</td>\n",
       "    </tr>\n",
       "    <tr>\n",
       "      <th>154</th>\n",
       "      <td>Spain</td>\n",
       "      <td>78797</td>\n",
       "      <td>6528</td>\n",
       "      <td>14709</td>\n",
       "    </tr>\n",
       "  </tbody>\n",
       "</table>\n",
       "</div>"
      ],
      "text/plain": [
       "     Country_Region  Confirmed  Deaths  Recovered\n",
       "3             China      82122    3304      75582\n",
       "6            France      38105    2317       5724\n",
       "10            Italy      92472   10023      12384\n",
       "16   United Kingdom      19758    1231        151\n",
       "17               US     125313    2197       2612\n",
       "87             Iran      38309    2640      12391\n",
       "154           Spain      78797    6528      14709"
      ]
     },
     "execution_count": 20,
     "metadata": {},
     "output_type": "execute_result"
    }
   ],
   "source": [
    "columns=['Country_Region','Confirmed','Deaths','Recovered']\n",
    "max = df_w.loc[df_w['Deaths']>1000,columns]\n",
    "max"
   ]
  },
  {
   "cell_type": "code",
   "execution_count": 21,
   "metadata": {},
   "outputs": [
    {
     "data": {
      "text/plain": [
       "Index(['X', 'Y', 'OBJECTID', 'Country_Region', 'Last_Update', 'Lat', 'Long_',\n",
       "       'Confirmed', 'Deaths', 'Recovered'],\n",
       "      dtype='object')"
      ]
     },
     "execution_count": 21,
     "metadata": {},
     "output_type": "execute_result"
    }
   ],
   "source": [
    "df_w.columns"
   ]
  },
  {
   "cell_type": "code",
   "execution_count": 22,
   "metadata": {},
   "outputs": [],
   "source": [
    "x=list(max['Country_Region'])\n",
    "y=list(max['Confirmed'])\n",
    "z=list(max['Deaths'])\n",
    "w=list(max['Recovered'])"
   ]
  },
  {
   "cell_type": "code",
   "execution_count": 23,
   "metadata": {},
   "outputs": [
    {
     "data": {
      "image/png": "[encoded data removed]",
      "text/plain": [
       "<Figure size 432x288 with 1 Axes>"
      ]
     },
     "metadata": {
      "needs_background": "light"
     },
     "output_type": "display_data"
    }
   ],
   "source": [
    "plt.bar(x,y,label='Confirmed')\n",
    "plt.legend()\n",
    "plt.show()"
   ]
  },
  {
   "cell_type": "code",
   "execution_count": 24,
   "metadata": {},
   "outputs": [
    {
     "data": {
      "image/png": "[encoded data removed]",
      "text/plain": [
       "<Figure size 432x288 with 1 Axes>"
      ]
     },
     "metadata": {
      "needs_background": "light"
     },
     "output_type": "display_data"
    }
   ],
   "source": [
    "plt.bar(x,z, label='Deaths')\n",
    "plt.legend()\n",
    "plt.show()"
   ]
  },
  {
   "cell_type": "code",
   "execution_count": 25,
   "metadata": {},
   "outputs": [
    {
     "data": {
      "image/png": "[encoded data removed]",
      "text/plain": [
       "<Figure size 432x288 with 1 Axes>"
      ]
     },
     "metadata": {
      "needs_background": "light"
     },
     "output_type": "display_data"
    }
   ],
   "source": [
    "plt.bar(x,z, label='Recovered')\n",
    "plt.legend()\n",
    "plt.show()"
   ]
  },
  {
   "cell_type": "code",
   "execution_count": 26,
   "metadata": {},
   "outputs": [
    {
     "data": {
      "text/plain": [
       "<matplotlib.collections.PathCollection at 0x6cd04cf0>"
      ]
     },
     "execution_count": 26,
     "metadata": {},
     "output_type": "execute_result"
    },
    {
     "data": {
      "image/png": "[encoded data removed]",
      "text/plain": [
       "<Figure size 1080x2160 with 1 Axes>"
      ]
     },
     "metadata": {
      "needs_background": "light"
     },
     "output_type": "display_data"
    }
   ],
   "source": [
    "x = df_w['X']\n",
    "y = df_w['Y']\n",
    "img = plt.imread(\"world_map.jpeg\")\n",
    "fig, ax = plt.subplots(figsize=(15, 30))\n",
    "ax.imshow(img,extent=[-220, 260, -150, 180])\n",
    "ax.scatter(x,y)"
   ]
  },
  {
   "cell_type": "code",
   "execution_count": 27,
   "metadata": {},
   "outputs": [
    {
     "data": {
      "image/png": "[encoded data removed]",
      "text/plain": [
       "<Figure size 720x504 with 1 Axes>"
      ]
     },
     "metadata": {
      "needs_background": "light"
     },
     "output_type": "display_data"
    }
   ],
   "source": [
    "df_w.plot.scatter(x='X',y='Y',figsize=(10,7))\n",
    "plt.show()"
   ]
  },
  {
   "cell_type": "code",
   "execution_count": null,
   "metadata": {},
   "outputs": [],
   "source": []
  }
 ],
 "metadata": {
  "kernelspec": {
   "display_name": "Python 3",
   "language": "python",
   "name": "python3"
  },
  "language_info": {
   "codemirror_mode": {
    "name": "ipython",
    "version": 3
   },
   "file_extension": ".py",
   "mimetype": "text/x-python",
   "name": "python",
   "nbconvert_exporter": "python",
   "pygments_lexer": "ipython3",
   "version": "3.7.3"
  }
 },
 "nbformat": 4,
 "nbformat_minor": 2
}
